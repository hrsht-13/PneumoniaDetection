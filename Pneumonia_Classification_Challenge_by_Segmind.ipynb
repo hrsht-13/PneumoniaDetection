{
  "nbformat": 4,
  "nbformat_minor": 0,
  "metadata": {
    "kernelspec": {
      "language": "python",
      "display_name": "Python 3",
      "name": "python3"
    },
    "language_info": {
      "name": "python",
      "version": "3.7.10",
      "mimetype": "text/x-python",
      "codemirror_mode": {
        "name": "ipython",
        "version": 3
      },
      "pygments_lexer": "ipython3",
      "nbconvert_exporter": "python",
      "file_extension": ".py"
    },
    "colab": {
      "name": "Pneumonia Classification Challenge by Segmind.ipynb",
      "provenance": []
    }
  },
  "cells": [
    {
      "cell_type": "markdown",
      "metadata": {
        "id": "iGCkGWyO97d4"
      },
      "source": [
        "### LIBRARIES"
      ]
    },
    {
      "cell_type": "code",
      "metadata": {
        "trusted": true,
        "id": "RcTz0DX991Q6"
      },
      "source": [
        "import numpy as np \n",
        "import pandas as pd\n",
        "import os\n",
        "from glob import glob\n",
        "%matplotlib inline\n",
        "import matplotlib.pyplot as plt\n",
        "from keras_preprocessing.image import ImageDataGenerator"
      ],
      "execution_count": null,
      "outputs": []
    },
    {
      "cell_type": "markdown",
      "metadata": {
        "id": "io5VkEih9-u_"
      },
      "source": [
        "### NIH DATASET\n",
        "Since the external data was allowed to use for training, **NIH Chest X-rays** dataset was used. \n",
        "[Dataset](https://www.kaggle.com/nih-chest-xrays/data)"
      ]
    },
    {
      "cell_type": "code",
      "metadata": {
        "trusted": true,
        "id": "urSEnaIU91Q-",
        "outputId": "ff1217bf-5ce7-4e9e-b7b9-acff10a56576"
      },
      "source": [
        "all_xray_df = pd.read_csv('../input/data/Data_Entry_2017.csv')\n",
        "all_image_paths = {os.path.basename(x): x for x in \n",
        "                   glob(os.path.join('../input/data','images*', '*', '*.png'))}\n",
        "print('Scans found:', len(all_image_paths), ', Total Headers', all_xray_df.shape[0])\n",
        "all_xray_df['path'] = all_xray_df['Image Index'].map(all_image_paths.get)\n",
        "all_xray_df.sample(3)"
      ],
      "execution_count": null,
      "outputs": [
        {
          "output_type": "stream",
          "text": [
            "Scans found: 112120 , Total Headers 112120\n"
          ],
          "name": "stdout"
        },
        {
          "output_type": "execute_result",
          "data": {
            "text/plain": [
              "             Image Index Finding Labels  Follow-up #  Patient ID  Patient Age  \\\n",
              "22222   00005895_002.png     No Finding            2        5895           53   \n",
              "70068   00017247_008.png     No Finding            8       17247           56   \n",
              "108852  00029543_001.png     No Finding            1       29543           59   \n",
              "\n",
              "       Patient Gender View Position  OriginalImage[Width  Height]  \\\n",
              "22222               F            AP                 2500     2048   \n",
              "70068               F            PA                 2048     2500   \n",
              "108852              F            PA                 3056     2544   \n",
              "\n",
              "        OriginalImagePixelSpacing[x     y]  Unnamed: 11  \\\n",
              "22222                         0.171  0.171          NaN   \n",
              "70068                         0.168  0.168          NaN   \n",
              "108852                        0.139  0.139          NaN   \n",
              "\n",
              "                                                    path  \n",
              "22222   ../input/data/images_003/images/00005895_002.png  \n",
              "70068   ../input/data/images_008/images/00017247_008.png  \n",
              "108852  ../input/data/images_012/images/00029543_001.png  "
            ],
            "text/html": [
              "<div>\n",
              "<style scoped>\n",
              "    .dataframe tbody tr th:only-of-type {\n",
              "        vertical-align: middle;\n",
              "    }\n",
              "\n",
              "    .dataframe tbody tr th {\n",
              "        vertical-align: top;\n",
              "    }\n",
              "\n",
              "    .dataframe thead th {\n",
              "        text-align: right;\n",
              "    }\n",
              "</style>\n",
              "<table border=\"1\" class=\"dataframe\">\n",
              "  <thead>\n",
              "    <tr style=\"text-align: right;\">\n",
              "      <th></th>\n",
              "      <th>Image Index</th>\n",
              "      <th>Finding Labels</th>\n",
              "      <th>Follow-up #</th>\n",
              "      <th>Patient ID</th>\n",
              "      <th>Patient Age</th>\n",
              "      <th>Patient Gender</th>\n",
              "      <th>View Position</th>\n",
              "      <th>OriginalImage[Width</th>\n",
              "      <th>Height]</th>\n",
              "      <th>OriginalImagePixelSpacing[x</th>\n",
              "      <th>y]</th>\n",
              "      <th>Unnamed: 11</th>\n",
              "      <th>path</th>\n",
              "    </tr>\n",
              "  </thead>\n",
              "  <tbody>\n",
              "    <tr>\n",
              "      <th>22222</th>\n",
              "      <td>00005895_002.png</td>\n",
              "      <td>No Finding</td>\n",
              "      <td>2</td>\n",
              "      <td>5895</td>\n",
              "      <td>53</td>\n",
              "      <td>F</td>\n",
              "      <td>AP</td>\n",
              "      <td>2500</td>\n",
              "      <td>2048</td>\n",
              "      <td>0.171</td>\n",
              "      <td>0.171</td>\n",
              "      <td>NaN</td>\n",
              "      <td>../input/data/images_003/images/00005895_002.png</td>\n",
              "    </tr>\n",
              "    <tr>\n",
              "      <th>70068</th>\n",
              "      <td>00017247_008.png</td>\n",
              "      <td>No Finding</td>\n",
              "      <td>8</td>\n",
              "      <td>17247</td>\n",
              "      <td>56</td>\n",
              "      <td>F</td>\n",
              "      <td>PA</td>\n",
              "      <td>2048</td>\n",
              "      <td>2500</td>\n",
              "      <td>0.168</td>\n",
              "      <td>0.168</td>\n",
              "      <td>NaN</td>\n",
              "      <td>../input/data/images_008/images/00017247_008.png</td>\n",
              "    </tr>\n",
              "    <tr>\n",
              "      <th>108852</th>\n",
              "      <td>00029543_001.png</td>\n",
              "      <td>No Finding</td>\n",
              "      <td>1</td>\n",
              "      <td>29543</td>\n",
              "      <td>59</td>\n",
              "      <td>F</td>\n",
              "      <td>PA</td>\n",
              "      <td>3056</td>\n",
              "      <td>2544</td>\n",
              "      <td>0.139</td>\n",
              "      <td>0.139</td>\n",
              "      <td>NaN</td>\n",
              "      <td>../input/data/images_012/images/00029543_001.png</td>\n",
              "    </tr>\n",
              "  </tbody>\n",
              "</table>\n",
              "</div>"
            ]
          },
          "metadata": {
            "tags": []
          },
          "execution_count": 3
        }
      ]
    },
    {
      "cell_type": "code",
      "metadata": {
        "trusted": true,
        "id": "7JrEbWHU91Q_",
        "outputId": "f7d8b79c-3719-4dca-9ec5-eed8f11501d9"
      },
      "source": [
        "findings = set()\n",
        "for f in all_xray_df['Finding Labels'].unique():\n",
        "    findings.update(f.split('|'))\n",
        "print(f'Total number of single diagnoses: {len(findings)}')\n",
        "findings"
      ],
      "execution_count": null,
      "outputs": [
        {
          "output_type": "stream",
          "text": [
            "Total number of single diagnoses: 15\n"
          ],
          "name": "stdout"
        },
        {
          "output_type": "execute_result",
          "data": {
            "text/plain": [
              "{'Atelectasis',\n",
              " 'Cardiomegaly',\n",
              " 'Consolidation',\n",
              " 'Edema',\n",
              " 'Effusion',\n",
              " 'Emphysema',\n",
              " 'Fibrosis',\n",
              " 'Hernia',\n",
              " 'Infiltration',\n",
              " 'Mass',\n",
              " 'No Finding',\n",
              " 'Nodule',\n",
              " 'Pleural_Thickening',\n",
              " 'Pneumonia',\n",
              " 'Pneumothorax'}"
            ]
          },
          "metadata": {
            "tags": []
          },
          "execution_count": 4
        }
      ]
    },
    {
      "cell_type": "code",
      "metadata": {
        "trusted": true,
        "id": "R8ECwEvA91RA",
        "outputId": "cb90ae3c-fffc-4893-d4c6-c3cf1eec1c75"
      },
      "source": [
        "for finding in findings:\n",
        "    all_xray_df[finding] = all_xray_df['Finding Labels'].map(lambda x: 1.0 if finding in x else 0)\n",
        "\n",
        "all_xray_df.head(3)"
      ],
      "execution_count": null,
      "outputs": [
        {
          "output_type": "execute_result",
          "data": {
            "text/plain": [
              "        Image Index          Finding Labels  Follow-up #  Patient ID  \\\n",
              "0  00000001_000.png            Cardiomegaly            0           1   \n",
              "1  00000001_001.png  Cardiomegaly|Emphysema            1           1   \n",
              "2  00000001_002.png   Cardiomegaly|Effusion            2           1   \n",
              "\n",
              "   Patient Age Patient Gender View Position  OriginalImage[Width  Height]  \\\n",
              "0           58              M            PA                 2682     2749   \n",
              "1           58              M            PA                 2894     2729   \n",
              "2           58              M            PA                 2500     2048   \n",
              "\n",
              "   OriginalImagePixelSpacing[x  ...  No Finding  Mass Emphysema  \\\n",
              "0                        0.143  ...         0.0   0.0       0.0   \n",
              "1                        0.143  ...         0.0   0.0       1.0   \n",
              "2                        0.168  ...         0.0   0.0       0.0   \n",
              "\n",
              "   Pleural_Thickening  Fibrosis  Pneumonia  Infiltration  Pneumothorax  \\\n",
              "0                 0.0       0.0        0.0           0.0           0.0   \n",
              "1                 0.0       0.0        0.0           0.0           0.0   \n",
              "2                 0.0       0.0        0.0           0.0           0.0   \n",
              "\n",
              "   Nodule  Cardiomegaly  \n",
              "0     0.0           1.0  \n",
              "1     0.0           1.0  \n",
              "2     0.0           1.0  \n",
              "\n",
              "[3 rows x 28 columns]"
            ],
            "text/html": [
              "<div>\n",
              "<style scoped>\n",
              "    .dataframe tbody tr th:only-of-type {\n",
              "        vertical-align: middle;\n",
              "    }\n",
              "\n",
              "    .dataframe tbody tr th {\n",
              "        vertical-align: top;\n",
              "    }\n",
              "\n",
              "    .dataframe thead th {\n",
              "        text-align: right;\n",
              "    }\n",
              "</style>\n",
              "<table border=\"1\" class=\"dataframe\">\n",
              "  <thead>\n",
              "    <tr style=\"text-align: right;\">\n",
              "      <th></th>\n",
              "      <th>Image Index</th>\n",
              "      <th>Finding Labels</th>\n",
              "      <th>Follow-up #</th>\n",
              "      <th>Patient ID</th>\n",
              "      <th>Patient Age</th>\n",
              "      <th>Patient Gender</th>\n",
              "      <th>View Position</th>\n",
              "      <th>OriginalImage[Width</th>\n",
              "      <th>Height]</th>\n",
              "      <th>OriginalImagePixelSpacing[x</th>\n",
              "      <th>...</th>\n",
              "      <th>No Finding</th>\n",
              "      <th>Mass</th>\n",
              "      <th>Emphysema</th>\n",
              "      <th>Pleural_Thickening</th>\n",
              "      <th>Fibrosis</th>\n",
              "      <th>Pneumonia</th>\n",
              "      <th>Infiltration</th>\n",
              "      <th>Pneumothorax</th>\n",
              "      <th>Nodule</th>\n",
              "      <th>Cardiomegaly</th>\n",
              "    </tr>\n",
              "  </thead>\n",
              "  <tbody>\n",
              "    <tr>\n",
              "      <th>0</th>\n",
              "      <td>00000001_000.png</td>\n",
              "      <td>Cardiomegaly</td>\n",
              "      <td>0</td>\n",
              "      <td>1</td>\n",
              "      <td>58</td>\n",
              "      <td>M</td>\n",
              "      <td>PA</td>\n",
              "      <td>2682</td>\n",
              "      <td>2749</td>\n",
              "      <td>0.143</td>\n",
              "      <td>...</td>\n",
              "      <td>0.0</td>\n",
              "      <td>0.0</td>\n",
              "      <td>0.0</td>\n",
              "      <td>0.0</td>\n",
              "      <td>0.0</td>\n",
              "      <td>0.0</td>\n",
              "      <td>0.0</td>\n",
              "      <td>0.0</td>\n",
              "      <td>0.0</td>\n",
              "      <td>1.0</td>\n",
              "    </tr>\n",
              "    <tr>\n",
              "      <th>1</th>\n",
              "      <td>00000001_001.png</td>\n",
              "      <td>Cardiomegaly|Emphysema</td>\n",
              "      <td>1</td>\n",
              "      <td>1</td>\n",
              "      <td>58</td>\n",
              "      <td>M</td>\n",
              "      <td>PA</td>\n",
              "      <td>2894</td>\n",
              "      <td>2729</td>\n",
              "      <td>0.143</td>\n",
              "      <td>...</td>\n",
              "      <td>0.0</td>\n",
              "      <td>0.0</td>\n",
              "      <td>1.0</td>\n",
              "      <td>0.0</td>\n",
              "      <td>0.0</td>\n",
              "      <td>0.0</td>\n",
              "      <td>0.0</td>\n",
              "      <td>0.0</td>\n",
              "      <td>0.0</td>\n",
              "      <td>1.0</td>\n",
              "    </tr>\n",
              "    <tr>\n",
              "      <th>2</th>\n",
              "      <td>00000001_002.png</td>\n",
              "      <td>Cardiomegaly|Effusion</td>\n",
              "      <td>2</td>\n",
              "      <td>1</td>\n",
              "      <td>58</td>\n",
              "      <td>M</td>\n",
              "      <td>PA</td>\n",
              "      <td>2500</td>\n",
              "      <td>2048</td>\n",
              "      <td>0.168</td>\n",
              "      <td>...</td>\n",
              "      <td>0.0</td>\n",
              "      <td>0.0</td>\n",
              "      <td>0.0</td>\n",
              "      <td>0.0</td>\n",
              "      <td>0.0</td>\n",
              "      <td>0.0</td>\n",
              "      <td>0.0</td>\n",
              "      <td>0.0</td>\n",
              "      <td>0.0</td>\n",
              "      <td>1.0</td>\n",
              "    </tr>\n",
              "  </tbody>\n",
              "</table>\n",
              "<p>3 rows × 28 columns</p>\n",
              "</div>"
            ]
          },
          "metadata": {
            "tags": []
          },
          "execution_count": 5
        }
      ]
    },
    {
      "cell_type": "markdown",
      "metadata": {
        "id": "nB7TJr_N-Z_n"
      },
      "source": [
        "ENCODING the NORMAL images as **N** and PNEUMONIA images as **Y**"
      ]
    },
    {
      "cell_type": "code",
      "metadata": {
        "trusted": true,
        "id": "lfip9Pka91RA",
        "outputId": "058ca096-7d5a-4944-81cc-707d3f43d7f1"
      },
      "source": [
        "all_xray_df['pneumonia_class'] = all_xray_df.apply(lambda x: 'Y' if x['Pneumonia'] == 1.0 else 'N', axis=1)\n",
        "all_xray_df.head(3)"
      ],
      "execution_count": null,
      "outputs": [
        {
          "output_type": "execute_result",
          "data": {
            "text/plain": [
              "        Image Index          Finding Labels  Follow-up #  Patient ID  \\\n",
              "0  00000001_000.png            Cardiomegaly            0           1   \n",
              "1  00000001_001.png  Cardiomegaly|Emphysema            1           1   \n",
              "2  00000001_002.png   Cardiomegaly|Effusion            2           1   \n",
              "\n",
              "   Patient Age Patient Gender View Position  OriginalImage[Width  Height]  \\\n",
              "0           58              M            PA                 2682     2749   \n",
              "1           58              M            PA                 2894     2729   \n",
              "2           58              M            PA                 2500     2048   \n",
              "\n",
              "   OriginalImagePixelSpacing[x  ...  Mass  Emphysema Pleural_Thickening  \\\n",
              "0                        0.143  ...   0.0        0.0                0.0   \n",
              "1                        0.143  ...   0.0        1.0                0.0   \n",
              "2                        0.168  ...   0.0        0.0                0.0   \n",
              "\n",
              "   Fibrosis  Pneumonia  Infiltration  Pneumothorax  Nodule  Cardiomegaly  \\\n",
              "0       0.0        0.0           0.0           0.0     0.0           1.0   \n",
              "1       0.0        0.0           0.0           0.0     0.0           1.0   \n",
              "2       0.0        0.0           0.0           0.0     0.0           1.0   \n",
              "\n",
              "   pneumonia_class  \n",
              "0                N  \n",
              "1                N  \n",
              "2                N  \n",
              "\n",
              "[3 rows x 29 columns]"
            ],
            "text/html": [
              "<div>\n",
              "<style scoped>\n",
              "    .dataframe tbody tr th:only-of-type {\n",
              "        vertical-align: middle;\n",
              "    }\n",
              "\n",
              "    .dataframe tbody tr th {\n",
              "        vertical-align: top;\n",
              "    }\n",
              "\n",
              "    .dataframe thead th {\n",
              "        text-align: right;\n",
              "    }\n",
              "</style>\n",
              "<table border=\"1\" class=\"dataframe\">\n",
              "  <thead>\n",
              "    <tr style=\"text-align: right;\">\n",
              "      <th></th>\n",
              "      <th>Image Index</th>\n",
              "      <th>Finding Labels</th>\n",
              "      <th>Follow-up #</th>\n",
              "      <th>Patient ID</th>\n",
              "      <th>Patient Age</th>\n",
              "      <th>Patient Gender</th>\n",
              "      <th>View Position</th>\n",
              "      <th>OriginalImage[Width</th>\n",
              "      <th>Height]</th>\n",
              "      <th>OriginalImagePixelSpacing[x</th>\n",
              "      <th>...</th>\n",
              "      <th>Mass</th>\n",
              "      <th>Emphysema</th>\n",
              "      <th>Pleural_Thickening</th>\n",
              "      <th>Fibrosis</th>\n",
              "      <th>Pneumonia</th>\n",
              "      <th>Infiltration</th>\n",
              "      <th>Pneumothorax</th>\n",
              "      <th>Nodule</th>\n",
              "      <th>Cardiomegaly</th>\n",
              "      <th>pneumonia_class</th>\n",
              "    </tr>\n",
              "  </thead>\n",
              "  <tbody>\n",
              "    <tr>\n",
              "      <th>0</th>\n",
              "      <td>00000001_000.png</td>\n",
              "      <td>Cardiomegaly</td>\n",
              "      <td>0</td>\n",
              "      <td>1</td>\n",
              "      <td>58</td>\n",
              "      <td>M</td>\n",
              "      <td>PA</td>\n",
              "      <td>2682</td>\n",
              "      <td>2749</td>\n",
              "      <td>0.143</td>\n",
              "      <td>...</td>\n",
              "      <td>0.0</td>\n",
              "      <td>0.0</td>\n",
              "      <td>0.0</td>\n",
              "      <td>0.0</td>\n",
              "      <td>0.0</td>\n",
              "      <td>0.0</td>\n",
              "      <td>0.0</td>\n",
              "      <td>0.0</td>\n",
              "      <td>1.0</td>\n",
              "      <td>N</td>\n",
              "    </tr>\n",
              "    <tr>\n",
              "      <th>1</th>\n",
              "      <td>00000001_001.png</td>\n",
              "      <td>Cardiomegaly|Emphysema</td>\n",
              "      <td>1</td>\n",
              "      <td>1</td>\n",
              "      <td>58</td>\n",
              "      <td>M</td>\n",
              "      <td>PA</td>\n",
              "      <td>2894</td>\n",
              "      <td>2729</td>\n",
              "      <td>0.143</td>\n",
              "      <td>...</td>\n",
              "      <td>0.0</td>\n",
              "      <td>1.0</td>\n",
              "      <td>0.0</td>\n",
              "      <td>0.0</td>\n",
              "      <td>0.0</td>\n",
              "      <td>0.0</td>\n",
              "      <td>0.0</td>\n",
              "      <td>0.0</td>\n",
              "      <td>1.0</td>\n",
              "      <td>N</td>\n",
              "    </tr>\n",
              "    <tr>\n",
              "      <th>2</th>\n",
              "      <td>00000001_002.png</td>\n",
              "      <td>Cardiomegaly|Effusion</td>\n",
              "      <td>2</td>\n",
              "      <td>1</td>\n",
              "      <td>58</td>\n",
              "      <td>M</td>\n",
              "      <td>PA</td>\n",
              "      <td>2500</td>\n",
              "      <td>2048</td>\n",
              "      <td>0.168</td>\n",
              "      <td>...</td>\n",
              "      <td>0.0</td>\n",
              "      <td>0.0</td>\n",
              "      <td>0.0</td>\n",
              "      <td>0.0</td>\n",
              "      <td>0.0</td>\n",
              "      <td>0.0</td>\n",
              "      <td>0.0</td>\n",
              "      <td>0.0</td>\n",
              "      <td>1.0</td>\n",
              "      <td>N</td>\n",
              "    </tr>\n",
              "  </tbody>\n",
              "</table>\n",
              "<p>3 rows × 29 columns</p>\n",
              "</div>"
            ]
          },
          "metadata": {
            "tags": []
          },
          "execution_count": 6
        }
      ]
    },
    {
      "cell_type": "code",
      "metadata": {
        "trusted": true,
        "id": "fc_L0fZ691RB",
        "outputId": "f031523e-4e33-4ac3-c1e3-cfdde12782ce"
      },
      "source": [
        "all_xray_df.columns"
      ],
      "execution_count": null,
      "outputs": [
        {
          "output_type": "execute_result",
          "data": {
            "text/plain": [
              "Index(['Image Index', 'Finding Labels', 'Follow-up #', 'Patient ID',\n",
              "       'Patient Age', 'Patient Gender', 'View Position', 'OriginalImage[Width',\n",
              "       'Height]', 'OriginalImagePixelSpacing[x', 'y]', 'Unnamed: 11', 'path',\n",
              "       'Effusion', 'Consolidation', 'Atelectasis', 'Edema', 'Hernia',\n",
              "       'No Finding', 'Mass', 'Emphysema', 'Pleural_Thickening', 'Fibrosis',\n",
              "       'Pneumonia', 'Infiltration', 'Pneumothorax', 'Nodule', 'Cardiomegaly',\n",
              "       'pneumonia_class'],\n",
              "      dtype='object')"
            ]
          },
          "metadata": {
            "tags": []
          },
          "execution_count": 7
        }
      ]
    },
    {
      "cell_type": "markdown",
      "metadata": {
        "id": "glqHPjrg-sHi"
      },
      "source": [
        "Since NORMAL images in the NIH dataset is >1L so taking a subsample of 2K NORMAL images"
      ]
    },
    {
      "cell_type": "code",
      "metadata": {
        "trusted": true,
        "id": "KsKXoG7391RB"
      },
      "source": [
        "pneu=all_xray_df[all_xray_df[\"pneumonia_class\"]==\"Y\"]\n",
        "Npneu=all_xray_df[all_xray_df[\"pneumonia_class\"]==\"N\"]\n",
        "NNpneu=Npneu.sample(n=2000,random_state=13)"
      ],
      "execution_count": null,
      "outputs": []
    },
    {
      "cell_type": "code",
      "metadata": {
        "trusted": true,
        "id": "f02HMmbp91RC"
      },
      "source": [
        "data=pd.concat([pneu,NNpneu],axis=0)"
      ],
      "execution_count": null,
      "outputs": []
    },
    {
      "cell_type": "markdown",
      "metadata": {
        "id": "fOLacP28-9Z7"
      },
      "source": [
        "This is the dataset used for training"
      ]
    },
    {
      "cell_type": "code",
      "metadata": {
        "trusted": true,
        "id": "NWdtzryP91RC",
        "outputId": "c0244de6-1fac-4825-ed5a-312bc2b76123"
      },
      "source": [
        "data=data.sample(frac=1)\n",
        "data.shape\n"
      ],
      "execution_count": null,
      "outputs": [
        {
          "output_type": "execute_result",
          "data": {
            "text/plain": [
              "(3431, 29)"
            ]
          },
          "metadata": {
            "tags": []
          },
          "execution_count": 10
        }
      ]
    },
    {
      "cell_type": "markdown",
      "metadata": {
        "id": "VIH9d58o_DLz"
      },
      "source": [
        "### DataGenerator\n",
        "Here the NIH dataset is used for training and DPHI training Dataset is used for validation"
      ]
    },
    {
      "cell_type": "code",
      "metadata": {
        "trusted": true,
        "id": "VrchCvl291RC"
      },
      "source": [
        "datagen=ImageDataGenerator(rescale=1./255,)"
      ],
      "execution_count": null,
      "outputs": []
    },
    {
      "cell_type": "code",
      "metadata": {
        "trusted": true,
        "id": "nU1xBx-G91RD",
        "outputId": "347a1e8b-0517-443e-f7b5-dc0ee58ae8d4"
      },
      "source": [
        "train_generator=datagen.flow_from_dataframe(\n",
        "dataframe=data,\n",
        "directory=None,\n",
        "x_col=\"path\",\n",
        "y_col=\"pneumonia_class\",\n",
        "batch_size=32,\n",
        "seed=42,\n",
        "shuffle=True,\n",
        "class_mode=\"categorical\",\n",
        "target_size=(224,224))"
      ],
      "execution_count": null,
      "outputs": [
        {
          "output_type": "stream",
          "text": [
            "Found 3431 validated image filenames belonging to 2 classes.\n"
          ],
          "name": "stdout"
        }
      ]
    },
    {
      "cell_type": "code",
      "metadata": {
        "trusted": true,
        "id": "bconLxFI91RD",
        "outputId": "ffe7e6f5-3280-46f6-b629-153e20db2843"
      },
      "source": [
        "train_generator.class_indices"
      ],
      "execution_count": null,
      "outputs": [
        {
          "output_type": "execute_result",
          "data": {
            "text/plain": [
              "{'N': 0, 'Y': 1}"
            ]
          },
          "metadata": {
            "tags": []
          },
          "execution_count": 13
        }
      ]
    },
    {
      "cell_type": "code",
      "metadata": {
        "trusted": true,
        "id": "ziXM3avB91RE",
        "outputId": "0391e362-7292-4905-8c95-45afb71b65c7"
      },
      "source": [
        "image_folder = os.listdir(\"../input/dphipneumonia/pneumonia_dataset/train\")\n",
        "filename = []\n",
        "label = []\n",
        "for folder in image_folder:\n",
        "  for image_name in os.listdir(os.path.join(\"../input/dphipneumonia/pneumonia_dataset/train\",folder)):\n",
        "    filename.append(folder+\"/\"+image_name)\n",
        "    label.append(folder)\n",
        "\n",
        "val = pd.DataFrame({'filename':filename,'label':label})\n",
        "val[\"label\"]=val[\"label\"].map({\"pneumonia\":\"Y\",\"normal\":\"N\"})\n",
        "val.head()"
      ],
      "execution_count": null,
      "outputs": [
        {
          "output_type": "execute_result",
          "data": {
            "text/plain": [
              "                       filename label\n",
              "0   pneumonia/CXR_train_508.png     Y\n",
              "1   pneumonia/CXR_train_610.png     Y\n",
              "2  pneumonia/CXR_train_1651.png     Y\n",
              "3   pneumonia/CXR_train_505.png     Y\n",
              "4  pneumonia/CXR_train_1259.png     Y"
            ],
            "text/html": [
              "<div>\n",
              "<style scoped>\n",
              "    .dataframe tbody tr th:only-of-type {\n",
              "        vertical-align: middle;\n",
              "    }\n",
              "\n",
              "    .dataframe tbody tr th {\n",
              "        vertical-align: top;\n",
              "    }\n",
              "\n",
              "    .dataframe thead th {\n",
              "        text-align: right;\n",
              "    }\n",
              "</style>\n",
              "<table border=\"1\" class=\"dataframe\">\n",
              "  <thead>\n",
              "    <tr style=\"text-align: right;\">\n",
              "      <th></th>\n",
              "      <th>filename</th>\n",
              "      <th>label</th>\n",
              "    </tr>\n",
              "  </thead>\n",
              "  <tbody>\n",
              "    <tr>\n",
              "      <th>0</th>\n",
              "      <td>pneumonia/CXR_train_508.png</td>\n",
              "      <td>Y</td>\n",
              "    </tr>\n",
              "    <tr>\n",
              "      <th>1</th>\n",
              "      <td>pneumonia/CXR_train_610.png</td>\n",
              "      <td>Y</td>\n",
              "    </tr>\n",
              "    <tr>\n",
              "      <th>2</th>\n",
              "      <td>pneumonia/CXR_train_1651.png</td>\n",
              "      <td>Y</td>\n",
              "    </tr>\n",
              "    <tr>\n",
              "      <th>3</th>\n",
              "      <td>pneumonia/CXR_train_505.png</td>\n",
              "      <td>Y</td>\n",
              "    </tr>\n",
              "    <tr>\n",
              "      <th>4</th>\n",
              "      <td>pneumonia/CXR_train_1259.png</td>\n",
              "      <td>Y</td>\n",
              "    </tr>\n",
              "  </tbody>\n",
              "</table>\n",
              "</div>"
            ]
          },
          "metadata": {
            "tags": []
          },
          "execution_count": 14
        }
      ]
    },
    {
      "cell_type": "code",
      "metadata": {
        "trusted": true,
        "id": "p_d_De3_91RE",
        "outputId": "b4da3cb0-33e6-40eb-e4e4-710957e337a1"
      },
      "source": [
        "valid_datagen=ImageDataGenerator(rescale=1./255.,)\n",
        "valid_generator=valid_datagen.flow_from_dataframe( \n",
        "dataframe=val,\n",
        "directory=\"../input/dphipneumonia/pneumonia_dataset/train\",\n",
        "x_col=\"filename\",\n",
        "y_col=\"label\",\n",
        "batch_size=32,\n",
        "seed=42,\n",
        "shuffle=True,\n",
        "class_mode=\"categorical\",\n",
        "target_size=(224,224))"
      ],
      "execution_count": null,
      "outputs": [
        {
          "output_type": "stream",
          "text": [
            "Found 2425 validated image filenames belonging to 2 classes.\n"
          ],
          "name": "stdout"
        }
      ]
    },
    {
      "cell_type": "code",
      "metadata": {
        "trusted": true,
        "id": "gB_F672991RF",
        "outputId": "7f985098-a587-44d9-b9ca-663125a9a6fd"
      },
      "source": [
        "valid_generator.class_indices"
      ],
      "execution_count": null,
      "outputs": [
        {
          "output_type": "execute_result",
          "data": {
            "text/plain": [
              "{'N': 0, 'Y': 1}"
            ]
          },
          "metadata": {
            "tags": []
          },
          "execution_count": 16
        }
      ]
    },
    {
      "cell_type": "markdown",
      "metadata": {
        "id": "ui37veHu_ZGd"
      },
      "source": [
        "### MODEL ACHITECTURE"
      ]
    },
    {
      "cell_type": "code",
      "metadata": {
        "trusted": true,
        "id": "Ww9RGqUp91RF"
      },
      "source": [
        "from tensorflow.keras.layers import Dense, Flatten, GlobalAveragePooling2D, BatchNormalization, Dropout,AveragePooling2D\n",
        "from tensorflow.keras.applications.resnet import ResNet50\n",
        "import tensorflow as tf\n",
        "from tensorflow.keras.applications import InceptionV3,DenseNet201,EfficientNetB7, MobileNetV2,Xception,VGG16,NASNetMobile,DenseNet169\n",
        "from keras.applications.inception_resnet_v2 import InceptionResNetV2\n",
        "from tensorflow.keras.callbacks import ModelCheckpoint, EarlyStopping, ReduceLROnPlateau\n",
        "from keras.models import Model\n",
        "from keras.models import Sequential\n",
        "from keras.regularizers import *\n",
        "from tensorflow import keras\n",
        "from tensorflow.keras import layers"
      ],
      "execution_count": null,
      "outputs": []
    },
    {
      "cell_type": "code",
      "metadata": {
        "trusted": true,
        "id": "hCEJz92_91RF",
        "outputId": "1127ca7c-5c92-43c2-8e00-35460cd25e7f"
      },
      "source": [
        "resnet= Xception(weights=\"imagenet\",)\n",
        "x=resnet.layers[-2].output\n",
        "fc1=Dense(2,activation='softmax',kernel_initializer='glorot_uniform', kernel_regularizer=l2(.0005))(x)\n",
        "my_model=Model(inputs=resnet.input,outputs=fc1)"
      ],
      "execution_count": null,
      "outputs": [
        {
          "output_type": "stream",
          "text": [
            "Downloading data from https://storage.googleapis.com/tensorflow/keras-applications/xception/xception_weights_tf_dim_ordering_tf_kernels.h5\n",
            "91889664/91884032 [==============================] - 1s 0us/step\n"
          ],
          "name": "stdout"
        }
      ]
    },
    {
      "cell_type": "code",
      "metadata": {
        "trusted": true,
        "id": "0e4e6yl691RG"
      },
      "source": [
        "STEP_SIZE_TRAIN=train_generator.n//train_generator.batch_size\n",
        "STEP_SIZE_VALID=valid_generator.n//valid_generator.batch_size"
      ],
      "execution_count": null,
      "outputs": []
    },
    {
      "cell_type": "markdown",
      "metadata": {
        "id": "2qo85Lfv_eUd"
      },
      "source": [
        "### EVAL METRIC"
      ]
    },
    {
      "cell_type": "code",
      "metadata": {
        "trusted": true,
        "id": "3R12zisc91RH"
      },
      "source": [
        "import keras.backend as K\n",
        "\n",
        "def f1(y_true, y_pred): #taken from old keras source code\n",
        "  true_positives = K.sum(K.round(K.clip(y_true * y_pred, 0, 1)))\n",
        "  possible_positives = K.sum(K.round(K.clip(y_true, 0, 1)))\n",
        "  predicted_positives = K.sum(K.round(K.clip(y_pred, 0, 1)))\n",
        "  precision = true_positives / (predicted_positives + K.epsilon())\n",
        "  recall = true_positives / (possible_positives + K.epsilon())\n",
        "  f1_val = 2*(precision*recall)/(precision+recall+K.epsilon())\n",
        "  return f1_val"
      ],
      "execution_count": null,
      "outputs": []
    },
    {
      "cell_type": "code",
      "metadata": {
        "trusted": true,
        "id": "p9cMWPzr91RH"
      },
      "source": [
        "my_model.compile(optimizer =tf.keras.optimizers.Adam(learning_rate=0.00001,decay=0.0001),metrics=[f1],loss= tf.keras.losses.CategoricalCrossentropy())"
      ],
      "execution_count": null,
      "outputs": []
    },
    {
      "cell_type": "markdown",
      "metadata": {
        "id": "FlLSXb1V_ifd"
      },
      "source": [
        "### CHECKPOINTS"
      ]
    },
    {
      "cell_type": "code",
      "metadata": {
        "trusted": true,
        "id": "exmliNDl91RI"
      },
      "source": [
        "checkpoint_path = \"training_0/cp.ckpt\"\n",
        "checkpoint_dir = os.path.dirname(checkpoint_path)\n",
        "my_callbacks = [\n",
        "               ModelCheckpoint(checkpoint_path, monitor = 'val_f1',verbose = 1,save_weights_only=True, save_best_only = True,mode=\"max\"),\n",
        "              EarlyStopping(monitor='val_loss', patience=5, verbose=0, mode='min'),\n",
        "              ReduceLROnPlateau(monitor='val_loss', factor=0.1, patience=5, verbose=1, mode='min',min_delta=1e-4)\n",
        "]"
      ],
      "execution_count": null,
      "outputs": []
    },
    {
      "cell_type": "markdown",
      "metadata": {
        "id": "zZJxCg3B_k_f"
      },
      "source": [
        "### TRAINNING"
      ]
    },
    {
      "cell_type": "code",
      "metadata": {
        "trusted": true,
        "id": "ZS9ZDJBG91RI",
        "outputId": "4c864283-b7a2-4075-bb8c-46164c13244b"
      },
      "source": [
        "my_model.fit(\n",
        "        train_generator,\n",
        "        steps_per_epoch=STEP_SIZE_TRAIN,\n",
        "        epochs=40,\n",
        "        validation_data=valid_generator,\n",
        "        validation_steps=STEP_SIZE_VALID,callbacks=[my_callbacks])"
      ],
      "execution_count": null,
      "outputs": [
        {
          "output_type": "stream",
          "text": [
            "Epoch 1/40\n",
            "107/107 [==============================] - 198s 2s/step - loss: 0.6769 - f1: 0.5772 - val_loss: 0.7130 - val_f1: 0.5342\n",
            "\n",
            "Epoch 00001: val_f1 improved from -inf to 0.53417, saving model to training_0/cp.ckpt\n",
            "Epoch 2/40\n",
            "107/107 [==============================] - 108s 1s/step - loss: 0.6028 - f1: 0.6940 - val_loss: 0.6968 - val_f1: 0.5596\n",
            "\n",
            "Epoch 00002: val_f1 improved from 0.53417 to 0.55958, saving model to training_0/cp.ckpt\n",
            "Epoch 3/40\n",
            "107/107 [==============================] - 104s 972ms/step - loss: 0.5426 - f1: 0.7531 - val_loss: 0.6351 - val_f1: 0.6275\n",
            "\n",
            "Epoch 00003: val_f1 improved from 0.55958 to 0.62750, saving model to training_0/cp.ckpt\n",
            "Epoch 4/40\n",
            "107/107 [==============================] - 103s 966ms/step - loss: 0.4805 - f1: 0.7930 - val_loss: 0.6058 - val_f1: 0.6667\n",
            "\n",
            "Epoch 00004: val_f1 improved from 0.62750 to 0.66667, saving model to training_0/cp.ckpt\n",
            "Epoch 5/40\n",
            "107/107 [==============================] - 104s 972ms/step - loss: 0.4225 - f1: 0.8453 - val_loss: 0.5651 - val_f1: 0.7079\n",
            "\n",
            "Epoch 00005: val_f1 improved from 0.66667 to 0.70792, saving model to training_0/cp.ckpt\n",
            "Epoch 6/40\n",
            "107/107 [==============================] - 104s 968ms/step - loss: 0.3459 - f1: 0.9003 - val_loss: 0.5084 - val_f1: 0.7600\n",
            "\n",
            "Epoch 00006: val_f1 improved from 0.70792 to 0.76000, saving model to training_0/cp.ckpt\n",
            "Epoch 7/40\n",
            "107/107 [==============================] - 104s 970ms/step - loss: 0.2690 - f1: 0.9412 - val_loss: 0.4170 - val_f1: 0.8262\n",
            "\n",
            "Epoch 00007: val_f1 improved from 0.76000 to 0.82625, saving model to training_0/cp.ckpt\n",
            "Epoch 8/40\n",
            "107/107 [==============================] - 104s 970ms/step - loss: 0.1982 - f1: 0.9676 - val_loss: 0.3720 - val_f1: 0.8483\n",
            "\n",
            "Epoch 00008: val_f1 improved from 0.82625 to 0.84833, saving model to training_0/cp.ckpt\n",
            "Epoch 9/40\n",
            "107/107 [==============================] - 104s 968ms/step - loss: 0.1407 - f1: 0.9860 - val_loss: 0.3283 - val_f1: 0.8608\n",
            "\n",
            "Epoch 00009: val_f1 improved from 0.84833 to 0.86083, saving model to training_0/cp.ckpt\n",
            "Epoch 10/40\n",
            "107/107 [==============================] - 104s 969ms/step - loss: 0.0980 - f1: 0.9937 - val_loss: 0.2949 - val_f1: 0.8787\n",
            "\n",
            "Epoch 00010: val_f1 improved from 0.86083 to 0.87875, saving model to training_0/cp.ckpt\n",
            "Epoch 11/40\n",
            "107/107 [==============================] - 104s 975ms/step - loss: 0.0706 - f1: 0.9965 - val_loss: 0.2953 - val_f1: 0.8808\n",
            "\n",
            "Epoch 00011: val_f1 improved from 0.87875 to 0.88083, saving model to training_0/cp.ckpt\n",
            "Epoch 12/40\n",
            "107/107 [==============================] - 104s 971ms/step - loss: 0.0442 - f1: 0.9994 - val_loss: 0.3134 - val_f1: 0.8750\n",
            "\n",
            "Epoch 00012: val_f1 did not improve from 0.88083\n",
            "Epoch 13/40\n",
            "107/107 [==============================] - 104s 969ms/step - loss: 0.0336 - f1: 0.9994 - val_loss: 0.2922 - val_f1: 0.8842\n",
            "\n",
            "Epoch 00013: val_f1 improved from 0.88083 to 0.88417, saving model to training_0/cp.ckpt\n",
            "Epoch 14/40\n",
            "107/107 [==============================] - 103s 967ms/step - loss: 0.0240 - f1: 1.0000 - val_loss: 0.3071 - val_f1: 0.8796\n",
            "\n",
            "Epoch 00014: val_f1 did not improve from 0.88417\n",
            "Epoch 15/40\n",
            "107/107 [==============================] - 103s 960ms/step - loss: 0.0216 - f1: 1.0000 - val_loss: 0.2979 - val_f1: 0.8917\n",
            "\n",
            "Epoch 00015: val_f1 improved from 0.88417 to 0.89167, saving model to training_0/cp.ckpt\n",
            "Epoch 16/40\n",
            "107/107 [==============================] - 103s 960ms/step - loss: 0.0172 - f1: 1.0000 - val_loss: 0.3449 - val_f1: 0.8750\n",
            "\n",
            "Epoch 00016: val_f1 did not improve from 0.89167\n",
            "Epoch 17/40\n",
            "107/107 [==============================] - 112s 1s/step - loss: 0.0161 - f1: 1.0000 - val_loss: 0.3271 - val_f1: 0.8833\n",
            "\n",
            "Epoch 00017: val_f1 did not improve from 0.89167\n",
            "Epoch 18/40\n",
            "107/107 [==============================] - 103s 959ms/step - loss: 0.0119 - f1: 0.9999 - val_loss: 0.3187 - val_f1: 0.8904\n",
            "\n",
            "Epoch 00018: val_f1 did not improve from 0.89167\n",
            "\n",
            "Epoch 00018: ReduceLROnPlateau reducing learning rate to 9.999999747378752e-07.\n"
          ],
          "name": "stdout"
        },
        {
          "output_type": "execute_result",
          "data": {
            "text/plain": [
              "<tensorflow.python.keras.callbacks.History at 0x7f5390d3c190>"
            ]
          },
          "metadata": {
            "tags": []
          },
          "execution_count": 23
        }
      ]
    },
    {
      "cell_type": "code",
      "metadata": {
        "trusted": true,
        "id": "Cg8OPS-E91RJ"
      },
      "source": [
        "model.load_weights(checkpoint_path)"
      ],
      "execution_count": null,
      "outputs": []
    },
    {
      "cell_type": "code",
      "metadata": {
        "trusted": true,
        "id": "jza-DQbi91RJ"
      },
      "source": [
        "my_model.save_weights(\"Xceptionnet.h5\")"
      ],
      "execution_count": null,
      "outputs": []
    },
    {
      "cell_type": "markdown",
      "metadata": {
        "id": "yY0voJHC_tQG"
      },
      "source": [
        "Now using DPHI dataset for training and prediction \n",
        "with pretrained weights of NIH dataset"
      ]
    },
    {
      "cell_type": "code",
      "metadata": {
        "trusted": true,
        "id": "xTZKY61591RJ"
      },
      "source": [
        "from sklearn.model_selection import train_test_split\n",
        "X_train, X_test = train_test_split(val, test_size=0.1, random_state=42)"
      ],
      "execution_count": null,
      "outputs": []
    },
    {
      "cell_type": "code",
      "metadata": {
        "trusted": true,
        "id": "gRZD_AQE91RK",
        "outputId": "3aec7767-0b06-410b-cf55-b2f6dc2c6ed4"
      },
      "source": [
        "train_generator=datagen.flow_from_dataframe(\n",
        "dataframe=X_train,\n",
        "directory=\"../input/dphipneumonia/pneumonia_dataset/train\",\n",
        "x_col=\"filename\",\n",
        "y_col=\"label\",\n",
        "batch_size=32,\n",
        "seed=42,\n",
        "shuffle=True,\n",
        "class_mode=\"categorical\",\n",
        "target_size=(224,224))"
      ],
      "execution_count": null,
      "outputs": [
        {
          "output_type": "stream",
          "text": [
            "Found 2182 validated image filenames belonging to 2 classes.\n"
          ],
          "name": "stdout"
        }
      ]
    },
    {
      "cell_type": "code",
      "metadata": {
        "trusted": true,
        "id": "XHls_W4B91RK",
        "outputId": "fc52d36f-8e70-45d2-a90c-4d530c554095"
      },
      "source": [
        "valid_datagen=ImageDataGenerator(rescale=1./255.,)\n",
        "valid_generator=valid_datagen.flow_from_dataframe( \n",
        "dataframe=X_test,\n",
        "directory=\"../input/dphipneumonia/pneumonia_dataset/train\",\n",
        "x_col=\"filename\",\n",
        "y_col=\"label\",\n",
        "batch_size=32,\n",
        "seed=42,\n",
        "shuffle=True,\n",
        "class_mode=\"categorical\",\n",
        "target_size=(224,224))"
      ],
      "execution_count": null,
      "outputs": [
        {
          "output_type": "stream",
          "text": [
            "Found 243 validated image filenames belonging to 2 classes.\n"
          ],
          "name": "stdout"
        }
      ]
    },
    {
      "cell_type": "code",
      "metadata": {
        "trusted": true,
        "id": "P67f-Nxn91RK"
      },
      "source": [
        "STEP_SIZE_TRAIN=train_generator.n//train_generator.batch_size\n",
        "STEP_SIZE_VALID=valid_generator.n//valid_generator.batch_size"
      ],
      "execution_count": null,
      "outputs": []
    },
    {
      "cell_type": "code",
      "metadata": {
        "trusted": true,
        "id": "N8xX9ld391RL",
        "outputId": "eb60c9ed-cef3-45df-da38-ae926bf45f1a"
      },
      "source": [
        "my_model.fit(\n",
        "        train_generator,\n",
        "        steps_per_epoch=STEP_SIZE_TRAIN,\n",
        "        epochs=10,\n",
        "        validation_data=valid_generator,\n",
        "        validation_steps=STEP_SIZE_VALID,callbacks=[my_callbacks])"
      ],
      "execution_count": null,
      "outputs": [
        {
          "output_type": "stream",
          "text": [
            "Epoch 1/10\n",
            "68/68 [==============================] - 46s 677ms/step - loss: 0.1419 - f1: 0.9496 - val_loss: 0.1396 - val_f1: 0.9509\n",
            "\n",
            "Epoch 00001: val_f1 improved from -inf to 0.95089, saving model to training_0/cp.ckpt\n",
            "Epoch 2/10\n",
            "68/68 [==============================] - 45s 665ms/step - loss: 0.1142 - f1: 0.9645 - val_loss: 0.0991 - val_f1: 0.9732\n",
            "\n",
            "Epoch 00002: val_f1 improved from 0.95089 to 0.97321, saving model to training_0/cp.ckpt\n",
            "Epoch 3/10\n",
            "68/68 [==============================] - 46s 668ms/step - loss: 0.0957 - f1: 0.9718 - val_loss: 0.0805 - val_f1: 0.9732\n",
            "\n",
            "Epoch 00003: val_f1 did not improve from 0.97321\n",
            "Epoch 4/10\n",
            "68/68 [==============================] - 45s 660ms/step - loss: 0.0737 - f1: 0.9839 - val_loss: 0.0728 - val_f1: 0.9777\n",
            "\n",
            "Epoch 00004: val_f1 improved from 0.97321 to 0.97768, saving model to training_0/cp.ckpt\n",
            "Epoch 5/10\n",
            "68/68 [==============================] - 46s 676ms/step - loss: 0.0659 - f1: 0.9867 - val_loss: 0.0716 - val_f1: 0.9777\n",
            "\n",
            "Epoch 00005: val_f1 did not improve from 0.97768\n",
            "Epoch 6/10\n",
            "68/68 [==============================] - 45s 663ms/step - loss: 0.0733 - f1: 0.9810 - val_loss: 0.0671 - val_f1: 0.9777\n",
            "\n",
            "Epoch 00006: val_f1 did not improve from 0.97768\n",
            "Epoch 7/10\n",
            "68/68 [==============================] - 45s 660ms/step - loss: 0.0616 - f1: 0.9864 - val_loss: 0.0680 - val_f1: 0.9777\n",
            "\n",
            "Epoch 00007: val_f1 did not improve from 0.97768\n",
            "Epoch 8/10\n",
            "68/68 [==============================] - 46s 668ms/step - loss: 0.0614 - f1: 0.9881 - val_loss: 0.0633 - val_f1: 0.9821\n",
            "\n",
            "Epoch 00008: val_f1 improved from 0.97768 to 0.98214, saving model to training_0/cp.ckpt\n",
            "Epoch 9/10\n",
            "68/68 [==============================] - 46s 667ms/step - loss: 0.0639 - f1: 0.9842 - val_loss: 0.0559 - val_f1: 0.9821\n",
            "\n",
            "Epoch 00009: val_f1 did not improve from 0.98214\n",
            "Epoch 10/10\n",
            "68/68 [==============================] - 46s 678ms/step - loss: 0.0494 - f1: 0.9925 - val_loss: 0.0665 - val_f1: 0.9821\n",
            "\n",
            "Epoch 00010: val_f1 did not improve from 0.98214\n"
          ],
          "name": "stdout"
        },
        {
          "output_type": "execute_result",
          "data": {
            "text/plain": [
              "<tensorflow.python.keras.callbacks.History at 0x7f4ef8b50910>"
            ]
          },
          "metadata": {
            "tags": []
          },
          "execution_count": 31
        }
      ]
    },
    {
      "cell_type": "code",
      "metadata": {
        "trusted": true,
        "id": "lSJjsKXu91RL",
        "outputId": "3fe99519-ff78-40bd-c632-74d12b41a4bb"
      },
      "source": [
        "my_model.load_weights(checkpoint_path)"
      ],
      "execution_count": null,
      "outputs": [
        {
          "output_type": "execute_result",
          "data": {
            "text/plain": [
              "<tensorflow.python.training.tracking.util.CheckpointLoadStatus at 0x7f532c1eb110>"
            ]
          },
          "metadata": {
            "tags": []
          },
          "execution_count": 33
        }
      ]
    },
    {
      "cell_type": "code",
      "metadata": {
        "trusted": true,
        "id": "bQTZX3Vo91RL",
        "outputId": "678151d3-78cd-47c5-a104-34a7bb8e81b8"
      },
      "source": [
        "my_model.evaluate(valid_generator,verbose=1)"
      ],
      "execution_count": null,
      "outputs": [
        {
          "output_type": "stream",
          "text": [
            "8/8 [==============================] - 5s 586ms/step - loss: 0.0664 - f1: 0.9751\n"
          ],
          "name": "stdout"
        },
        {
          "output_type": "execute_result",
          "data": {
            "text/plain": [
              "[0.06643582135438919, 0.9751233458518982]"
            ]
          },
          "metadata": {
            "tags": []
          },
          "execution_count": 34
        }
      ]
    },
    {
      "cell_type": "code",
      "metadata": {
        "trusted": true,
        "id": "NnkWdv8T91RM",
        "outputId": "fea0c8a7-0810-489a-9e62-69f11b5f1992"
      },
      "source": [
        "test=pd.read_csv(\"../input/dphipneumonia/pneumonia_dataset/test.csv\")\n",
        "test_generator=valid_datagen.flow_from_dataframe(\n",
        "dataframe=test,\n",
        "directory=\"../input/dphipneumonia/pneumonia_dataset/test\",\n",
        "x_col=\"filename\",\n",
        "y_col=None,\n",
        "batch_size=1,\n",
        "seed=42,\n",
        "shuffle=False,\n",
        "class_mode=None,\n",
        "target_size=(224,224))\n",
        "STEP_SIZE_TEST=test_generator.n//test_generator.batch_size"
      ],
      "execution_count": null,
      "outputs": [
        {
          "output_type": "stream",
          "text": [
            "Found 606 validated image filenames.\n"
          ],
          "name": "stdout"
        }
      ]
    },
    {
      "cell_type": "code",
      "metadata": {
        "trusted": true,
        "id": "AzuLQQT291RM",
        "outputId": "93af776a-5968-4044-9b1d-9499106f2e2a"
      },
      "source": [
        "pred1=np.argmax(my_model.predict(test_generator,steps=STEP_SIZE_TEST,verbose=1),axis=1)"
      ],
      "execution_count": null,
      "outputs": [
        {
          "output_type": "stream",
          "text": [
            "606/606 [==============================] - 19s 30ms/step\n"
          ],
          "name": "stdout"
        }
      ]
    },
    {
      "cell_type": "code",
      "metadata": {
        "trusted": true,
        "id": "lKko-wWX91RM",
        "outputId": "83724da3-8ad2-422f-de36-eda6ee57e6e5"
      },
      "source": [
        "pred1"
      ],
      "execution_count": null,
      "outputs": [
        {
          "output_type": "execute_result",
          "data": {
            "text/plain": [
              "array([1, 0, 0, 0, 0, 0, 1, 0, 0, 0, 0, 1, 0, 1, 0, 0, 1, 0, 1, 0, 0, 1,\n",
              "       0, 1, 0, 1, 1, 0, 0, 0, 0, 1, 0, 0, 1, 0, 0, 1, 0, 1, 1, 0, 0, 0,\n",
              "       0, 0, 0, 1, 1, 1, 1, 1, 0, 1, 0, 1, 0, 0, 1, 1, 1, 0, 1, 1, 0, 1,\n",
              "       0, 1, 1, 0, 0, 0, 0, 0, 0, 0, 1, 0, 1, 1, 1, 1, 0, 0, 0, 0, 1, 0,\n",
              "       1, 0, 1, 1, 1, 1, 1, 1, 0, 0, 1, 1, 0, 1, 1, 0, 1, 0, 1, 0, 0, 1,\n",
              "       1, 1, 0, 1, 1, 1, 0, 0, 1, 0, 0, 1, 0, 0, 0, 0, 1, 0, 1, 1, 0, 1,\n",
              "       1, 0, 0, 1, 0, 1, 1, 0, 1, 0, 0, 1, 0, 0, 0, 1, 0, 1, 0, 1, 0, 0,\n",
              "       1, 1, 0, 1, 1, 0, 1, 1, 1, 0, 0, 1, 0, 0, 0, 1, 0, 0, 0, 1, 0, 0,\n",
              "       1, 1, 0, 0, 1, 1, 1, 1, 1, 1, 0, 1, 0, 1, 0, 0, 0, 0, 0, 1, 1, 1,\n",
              "       1, 1, 1, 0, 0, 0, 0, 0, 0, 1, 0, 0, 0, 1, 1, 0, 1, 0, 0, 0, 0, 1,\n",
              "       1, 1, 1, 0, 0, 0, 1, 0, 1, 0, 1, 1, 0, 0, 1, 1, 1, 1, 0, 1, 1, 0,\n",
              "       0, 0, 1, 0, 0, 0, 0, 1, 1, 0, 0, 1, 1, 0, 0, 0, 0, 1, 1, 0, 0, 1,\n",
              "       0, 1, 0, 1, 0, 0, 0, 0, 1, 1, 1, 0, 0, 0, 0, 0, 1, 0, 0, 0, 1, 0,\n",
              "       0, 0, 1, 1, 0, 0, 0, 1, 1, 1, 1, 0, 0, 1, 0, 1, 1, 1, 1, 0, 1, 1,\n",
              "       0, 0, 1, 1, 1, 1, 1, 1, 1, 0, 1, 1, 1, 0, 1, 1, 1, 0, 0, 1, 1, 0,\n",
              "       0, 1, 0, 0, 1, 0, 1, 1, 0, 1, 0, 0, 0, 1, 0, 1, 1, 1, 1, 0, 1, 0,\n",
              "       1, 1, 0, 0, 0, 1, 0, 0, 1, 0, 1, 0, 0, 1, 1, 0, 0, 1, 0, 1, 1, 0,\n",
              "       1, 0, 0, 0, 0, 1, 1, 0, 1, 1, 1, 0, 1, 0, 1, 0, 0, 0, 1, 1, 1, 0,\n",
              "       0, 0, 0, 1, 1, 0, 1, 1, 0, 0, 0, 1, 1, 1, 0, 0, 0, 1, 0, 0, 1, 0,\n",
              "       1, 1, 1, 0, 0, 1, 1, 0, 1, 0, 1, 1, 1, 0, 0, 0, 0, 1, 0, 0, 1, 0,\n",
              "       0, 1, 0, 0, 1, 0, 1, 0, 1, 1, 0, 1, 0, 0, 0, 0, 1, 1, 1, 0, 0, 1,\n",
              "       0, 0, 0, 0, 1, 0, 1, 1, 1, 0, 1, 0, 0, 0, 1, 0, 0, 0, 0, 1, 0, 0,\n",
              "       1, 0, 1, 0, 1, 0, 1, 1, 1, 1, 0, 0, 1, 1, 1, 0, 0, 1, 1, 1, 1, 1,\n",
              "       1, 0, 0, 0, 1, 1, 0, 0, 0, 1, 1, 1, 1, 0, 0, 0, 0, 0, 1, 0, 0, 1,\n",
              "       0, 0, 1, 0, 0, 1, 1, 0, 0, 0, 1, 0, 1, 0, 0, 1, 1, 1, 0, 1, 1, 1,\n",
              "       1, 1, 0, 1, 0, 1, 0, 1, 0, 0, 1, 1, 0, 0, 1, 0, 1, 1, 1, 1, 1, 0,\n",
              "       1, 0, 0, 0, 1, 1, 1, 1, 1, 1, 1, 1, 1, 1, 1, 0, 0, 1, 1, 1, 1, 0,\n",
              "       1, 1, 1, 0, 1, 0, 1, 0, 1, 1, 1, 0])"
            ]
          },
          "metadata": {
            "tags": []
          },
          "execution_count": 37
        }
      ]
    },
    {
      "cell_type": "code",
      "metadata": {
        "trusted": true,
        "id": "G0gCVHmW91RN"
      },
      "source": [
        "sub=pd.read_csv(\"../input/dphipneumonia/pneumonia_dataset/sample_submission.csv\")\n",
        "sub[\"label\"]=pred1\n",
        "sub[\"label\"]=sub[\"label\"].map({0:'normal',\n",
        " 1:'pneumonia'})"
      ],
      "execution_count": null,
      "outputs": []
    },
    {
      "cell_type": "code",
      "metadata": {
        "trusted": true,
        "id": "bTu0C7MB91RN",
        "outputId": "b023f5ca-8767-459d-e42a-5cdca91f3412"
      },
      "source": [
        "sub[\"label\"].value_counts()"
      ],
      "execution_count": null,
      "outputs": [
        {
          "output_type": "execute_result",
          "data": {
            "text/plain": [
              "normal       308\n",
              "pneumonia    298\n",
              "Name: label, dtype: int64"
            ]
          },
          "metadata": {
            "tags": []
          },
          "execution_count": 39
        }
      ]
    },
    {
      "cell_type": "code",
      "metadata": {
        "trusted": true,
        "id": "qPbzHOhJ91RN"
      },
      "source": [
        "sub.to_csv(\"sub2.csv\",index=False)"
      ],
      "execution_count": null,
      "outputs": []
    },
    {
      "cell_type": "markdown",
      "metadata": {
        "id": "t94JuJvqAHaY"
      },
      "source": [
        "### It achieved a F1_score of 97.36 on leaderboard."
      ]
    }
  ]
}